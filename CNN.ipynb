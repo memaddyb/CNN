{
 "cells": [
  {
   "cell_type": "code",
   "execution_count": 1,
   "id": "7ecd8841",
   "metadata": {},
   "outputs": [],
   "source": [
    "import tensorflow as tf\n",
    "import  numpy as np\n",
    "import pandas as pd\n",
    "import matplotlib.pyplot as plt\n",
    "import seaborn as sns"
   ]
  },
  {
   "cell_type": "code",
   "execution_count": 2,
   "id": "2a88709e",
   "metadata": {},
   "outputs": [],
   "source": [
    "from tensorflow.keras.preprocessing.image import ImageDataGenerator"
   ]
  },
  {
   "cell_type": "code",
   "execution_count": 3,
   "id": "b65e1c8e",
   "metadata": {},
   "outputs": [
    {
     "data": {
      "text/plain": [
       "'2.11.0'"
      ]
     },
     "execution_count": 3,
     "metadata": {},
     "output_type": "execute_result"
    }
   ],
   "source": [
    "tf.__version__"
   ]
  },
  {
   "cell_type": "code",
   "execution_count": 11,
   "id": "d8f79ce4",
   "metadata": {},
   "outputs": [
    {
     "name": "stdout",
     "output_type": "stream",
     "text": [
      "Found 8000 images belonging to 2 classes.\n"
     ]
    }
   ],
   "source": [
    "train_datagen=ImageDataGenerator(shear_range=0.2,\n",
    "    zoom_range=0.2,rescale=1/255,horizontal_flip=True)\n",
    "training_set=train_datagen.flow_from_directory('Dataset/training_set',\n",
    "                                              target_size=(64,64),\n",
    "                                              batch_size=32,\n",
    "                                              class_mode='binary')"
   ]
  },
  {
   "cell_type": "code",
   "execution_count": 12,
   "id": "266590a6",
   "metadata": {},
   "outputs": [
    {
     "name": "stdout",
     "output_type": "stream",
     "text": [
      "Found 2000 images belonging to 2 classes.\n"
     ]
    }
   ],
   "source": [
    "test_datagen=ImageDataGenerator(rescale=1/255)\n",
    "test_set=test_datagen.flow_from_directory('Dataset/test_set',\n",
    "                                              target_size=(64,64),\n",
    "                                              batch_size=32,\n",
    "                                              class_mode='binary')"
   ]
  },
  {
   "cell_type": "code",
   "execution_count": 20,
   "id": "4c468fda",
   "metadata": {},
   "outputs": [],
   "source": [
    "from tensorflow.keras.models import Sequential\n",
    "from tensorflow.keras.layers import ReLU,Dense\n",
    "from tensorflow.keras.layers import Conv2D\n",
    "from tensorflow.keras.layers import MaxPooling2D\n",
    "from tensorflow.keras.layers import Flatten"
   ]
  },
  {
   "cell_type": "code",
   "execution_count": 14,
   "id": "b135551c",
   "metadata": {},
   "outputs": [],
   "source": [
    "cnn=Sequential()"
   ]
  },
  {
   "cell_type": "markdown",
   "id": "b132dcaa",
   "metadata": {},
   "source": [
    "## convolution"
   ]
  },
  {
   "cell_type": "code",
   "execution_count": 16,
   "id": "7c28e25b",
   "metadata": {},
   "outputs": [],
   "source": [
    "cnn.add(Conv2D(kernel_size=3,filters=32,activation='relu',input_shape=[64,64,3]))"
   ]
  },
  {
   "cell_type": "markdown",
   "id": "096c4093",
   "metadata": {},
   "source": [
    "## polling"
   ]
  },
  {
   "cell_type": "code",
   "execution_count": 18,
   "id": "352a9313",
   "metadata": {},
   "outputs": [],
   "source": [
    "cnn.add(MaxPooling2D(pool_size=(2,2),strides=2))"
   ]
  },
  {
   "cell_type": "markdown",
   "id": "01b11935",
   "metadata": {},
   "source": [
    "## 2nd convolution&pooling"
   ]
  },
  {
   "cell_type": "code",
   "execution_count": 19,
   "id": "2591a07d",
   "metadata": {},
   "outputs": [],
   "source": [
    "cnn.add(Conv2D(kernel_size=3,filters=32,activation='relu'))\n",
    "cnn.add(MaxPooling2D(pool_size=(2,2),strides=2))"
   ]
  },
  {
   "cell_type": "markdown",
   "id": "e0234044",
   "metadata": {},
   "source": [
    "## Flattening"
   ]
  },
  {
   "cell_type": "code",
   "execution_count": 21,
   "id": "21baf998",
   "metadata": {},
   "outputs": [],
   "source": [
    "cnn.add(Flatten())"
   ]
  },
  {
   "cell_type": "markdown",
   "id": "f5ba9d10",
   "metadata": {},
   "source": [
    "## Full connection"
   ]
  },
  {
   "cell_type": "code",
   "execution_count": 22,
   "id": "d63bcf8e",
   "metadata": {},
   "outputs": [],
   "source": [
    "cnn.add(Dense(units=128,activation='relu'))"
   ]
  },
  {
   "cell_type": "markdown",
   "id": "aba515a1",
   "metadata": {},
   "source": [
    "## Output Layer"
   ]
  },
  {
   "cell_type": "code",
   "execution_count": 24,
   "id": "ef0bc641",
   "metadata": {},
   "outputs": [],
   "source": [
    "cnn.add(Dense(units=1,activation='sigmoid'))"
   ]
  },
  {
   "cell_type": "markdown",
   "id": "b6933a2e",
   "metadata": {},
   "source": [
    "## compile"
   ]
  },
  {
   "cell_type": "code",
   "execution_count": 26,
   "id": "c9c59714",
   "metadata": {},
   "outputs": [],
   "source": [
    "opt=tf.keras.optimizers.Adam(learning_rate=0.001)"
   ]
  },
  {
   "cell_type": "code",
   "execution_count": 25,
   "id": "fb33e817",
   "metadata": {},
   "outputs": [],
   "source": [
    "cnn.compile(optimizer=opt,loss='binary_crossentropy',metrics=['accuracy'])"
   ]
  },
  {
   "cell_type": "code",
   "execution_count": 27,
   "id": "d7f77a0a",
   "metadata": {},
   "outputs": [
    {
     "name": "stdout",
     "output_type": "stream",
     "text": [
      "Epoch 1/30\n",
      "250/250 [==============================] - 100s 394ms/step - loss: 0.6829 - accuracy: 0.5577 - val_loss: 0.6176 - val_accuracy: 0.6670\n",
      "Epoch 2/30\n",
      "250/250 [==============================] - 34s 137ms/step - loss: 0.6077 - accuracy: 0.6696 - val_loss: 0.5688 - val_accuracy: 0.7040\n",
      "Epoch 3/30\n",
      "250/250 [==============================] - 34s 137ms/step - loss: 0.5536 - accuracy: 0.7144 - val_loss: 0.5378 - val_accuracy: 0.7380\n",
      "Epoch 4/30\n",
      "250/250 [==============================] - 34s 138ms/step - loss: 0.5188 - accuracy: 0.7448 - val_loss: 0.4918 - val_accuracy: 0.7625\n",
      "Epoch 5/30\n",
      "250/250 [==============================] - 34s 137ms/step - loss: 0.4897 - accuracy: 0.7624 - val_loss: 0.4869 - val_accuracy: 0.7720\n",
      "Epoch 6/30\n",
      "250/250 [==============================] - 35s 138ms/step - loss: 0.4797 - accuracy: 0.7704 - val_loss: 0.4886 - val_accuracy: 0.7690\n",
      "Epoch 7/30\n",
      "250/250 [==============================] - 34s 137ms/step - loss: 0.4720 - accuracy: 0.7763 - val_loss: 0.5441 - val_accuracy: 0.7445\n",
      "Epoch 8/30\n",
      "250/250 [==============================] - 35s 138ms/step - loss: 0.4489 - accuracy: 0.7911 - val_loss: 0.5006 - val_accuracy: 0.7605\n",
      "Epoch 9/30\n",
      "250/250 [==============================] - 37s 148ms/step - loss: 0.4343 - accuracy: 0.7986 - val_loss: 0.4603 - val_accuracy: 0.7895\n",
      "Epoch 10/30\n",
      "250/250 [==============================] - 34s 138ms/step - loss: 0.4229 - accuracy: 0.8040 - val_loss: 0.4803 - val_accuracy: 0.7780\n",
      "Epoch 11/30\n",
      "250/250 [==============================] - 35s 141ms/step - loss: 0.4074 - accuracy: 0.8130 - val_loss: 0.4754 - val_accuracy: 0.7760\n",
      "Epoch 12/30\n",
      "250/250 [==============================] - 35s 139ms/step - loss: 0.4037 - accuracy: 0.8127 - val_loss: 0.5031 - val_accuracy: 0.7755\n",
      "Epoch 13/30\n",
      "250/250 [==============================] - 35s 138ms/step - loss: 0.3991 - accuracy: 0.8171 - val_loss: 0.4544 - val_accuracy: 0.7825\n",
      "Epoch 14/30\n",
      "250/250 [==============================] - 34s 138ms/step - loss: 0.3772 - accuracy: 0.8329 - val_loss: 0.4769 - val_accuracy: 0.7900\n",
      "Epoch 15/30\n",
      "250/250 [==============================] - 35s 139ms/step - loss: 0.3677 - accuracy: 0.8332 - val_loss: 0.4449 - val_accuracy: 0.8000\n",
      "Epoch 16/30\n",
      "250/250 [==============================] - 35s 140ms/step - loss: 0.3662 - accuracy: 0.8359 - val_loss: 0.5073 - val_accuracy: 0.7805\n",
      "Epoch 17/30\n",
      "250/250 [==============================] - 35s 139ms/step - loss: 0.3511 - accuracy: 0.8469 - val_loss: 0.4750 - val_accuracy: 0.7880\n",
      "Epoch 18/30\n",
      "250/250 [==============================] - 35s 139ms/step - loss: 0.3386 - accuracy: 0.8525 - val_loss: 0.4847 - val_accuracy: 0.7940\n",
      "Epoch 19/30\n",
      "250/250 [==============================] - 34s 138ms/step - loss: 0.3425 - accuracy: 0.8518 - val_loss: 0.4417 - val_accuracy: 0.8085\n",
      "Epoch 20/30\n",
      "250/250 [==============================] - 61s 243ms/step - loss: 0.3245 - accuracy: 0.8601 - val_loss: 0.4668 - val_accuracy: 0.7945\n",
      "Epoch 21/30\n",
      "250/250 [==============================] - 35s 139ms/step - loss: 0.3184 - accuracy: 0.8630 - val_loss: 0.4778 - val_accuracy: 0.7965\n",
      "Epoch 22/30\n",
      "250/250 [==============================] - 34s 137ms/step - loss: 0.3139 - accuracy: 0.8597 - val_loss: 0.4881 - val_accuracy: 0.8080\n",
      "Epoch 23/30\n",
      "250/250 [==============================] - 34s 137ms/step - loss: 0.3058 - accuracy: 0.8680 - val_loss: 0.4689 - val_accuracy: 0.8030\n",
      "Epoch 24/30\n",
      "250/250 [==============================] - 34s 137ms/step - loss: 0.2963 - accuracy: 0.8733 - val_loss: 0.4980 - val_accuracy: 0.8025\n",
      "Epoch 25/30\n",
      "250/250 [==============================] - 34s 137ms/step - loss: 0.2959 - accuracy: 0.8704 - val_loss: 0.4896 - val_accuracy: 0.8020\n",
      "Epoch 26/30\n",
      "250/250 [==============================] - 35s 141ms/step - loss: 0.2838 - accuracy: 0.8754 - val_loss: 0.5250 - val_accuracy: 0.7945\n",
      "Epoch 27/30\n",
      "250/250 [==============================] - 35s 140ms/step - loss: 0.2672 - accuracy: 0.8879 - val_loss: 0.5169 - val_accuracy: 0.8085\n",
      "Epoch 28/30\n",
      "250/250 [==============================] - 36s 142ms/step - loss: 0.2629 - accuracy: 0.8870 - val_loss: 0.5408 - val_accuracy: 0.8000\n",
      "Epoch 29/30\n",
      "250/250 [==============================] - 36s 146ms/step - loss: 0.2509 - accuracy: 0.8921 - val_loss: 0.5366 - val_accuracy: 0.8000\n",
      "Epoch 30/30\n",
      "250/250 [==============================] - 36s 145ms/step - loss: 0.2619 - accuracy: 0.8866 - val_loss: 0.5649 - val_accuracy: 0.7975\n"
     ]
    }
   ],
   "source": [
    "model=cnn.fit(x=training_set,validation_data=test_set,epochs=30)"
   ]
  },
  {
   "cell_type": "code",
   "execution_count": 28,
   "id": "89a21475",
   "metadata": {},
   "outputs": [
    {
     "data": {
      "text/plain": [
       "dict_keys(['loss', 'accuracy', 'val_loss', 'val_accuracy'])"
      ]
     },
     "execution_count": 28,
     "metadata": {},
     "output_type": "execute_result"
    }
   ],
   "source": [
    "model.history.keys()"
   ]
  },
  {
   "cell_type": "code",
   "execution_count": 30,
   "id": "1352e607",
   "metadata": {},
   "outputs": [
    {
     "data": {
      "text/plain": [
       "[<matplotlib.lines.Line2D at 0x2a063b7c9d0>]"
      ]
     },
     "execution_count": 30,
     "metadata": {},
     "output_type": "execute_result"
    },
    {
     "data": {
      "image/png": "[encoded data removed]",
      "text/plain": [
       "<Figure size 640x480 with 1 Axes>"
      ]
     },
     "metadata": {},
     "output_type": "display_data"
    }
   ],
   "source": [
    "plt.plot(model.history['loss'])\n",
    "plt.plot(model.history['val_loss'])"
   ]
  },
  {
   "cell_type": "code",
   "execution_count": 31,
   "id": "492ed124",
   "metadata": {},
   "outputs": [
    {
     "data": {
      "text/plain": [
       "[<matplotlib.lines.Line2D at 0x2a063c37f10>]"
      ]
     },
     "execution_count": 31,
     "metadata": {},
     "output_type": "execute_result"
    },
    {
     "data": {
      "image/png": "[encoded data removed]",
      "text/plain": [
       "<Figure size 640x480 with 1 Axes>"
      ]
     },
     "metadata": {},
     "output_type": "display_data"
    }
   ],
   "source": [
    "plt.plot(model.history['accuracy'])\n",
    "plt.plot(model.history['val_accuracy'])"
   ]
  },
  {
   "cell_type": "code",
   "execution_count": 32,
   "id": "b7aa0914",
   "metadata": {},
   "outputs": [],
   "source": [
    "from tensorflow.keras.preprocessing import image"
   ]
  },
  {
   "cell_type": "code",
   "execution_count": 54,
   "id": "d85f88e0",
   "metadata": {},
   "outputs": [],
   "source": [
    "load_image=image.load_img('./Dataset/cat.jpg',target_size=(64,64))\n",
    "load_image_array=image.img_to_array(load_image)\n",
    "test_image=np.expand_dims(load_image_array,axis=0)"
   ]
  },
  {
   "cell_type": "code",
   "execution_count": 56,
   "id": "32c69c41",
   "metadata": {},
   "outputs": [
    {
     "data": {
      "image/png": "[encoded data removed]",
      "text/plain": [
       "<PIL.Image.Image image mode=RGB size=64x64>"
      ]
     },
     "execution_count": 56,
     "metadata": {},
     "output_type": "execute_result"
    }
   ],
   "source": [
    "load_image"
   ]
  },
  {
   "cell_type": "code",
   "execution_count": 57,
   "id": "58b296aa",
   "metadata": {},
   "outputs": [
    {
     "data": {
      "text/plain": [
       "{'cats': 0, 'dogs': 1}"
      ]
     },
     "execution_count": 57,
     "metadata": {},
     "output_type": "execute_result"
    }
   ],
   "source": [
    "training_set.class_indices"
   ]
  },
  {
   "cell_type": "code",
   "execution_count": 58,
   "id": "59423d97",
   "metadata": {},
   "outputs": [
    {
     "name": "stdout",
     "output_type": "stream",
     "text": [
      "1/1 [==============================] - 0s 40ms/step\n",
      "It is cat\n"
     ]
    }
   ],
   "source": [
    "result=cnn.predict(test_image)\n",
    "if result[0][0]<0.5:\n",
    "    print('It is cat')\n",
    "else:\n",
    "    print('It is dog')\n",
    "        "
   ]
  },
  {
   "cell_type": "code",
   "execution_count": 59,
   "id": "5f4207dd",
   "metadata": {},
   "outputs": [],
   "source": [
    "load_image=image.load_img('./Dataset/dog.jfif',target_size=(64,64))\n",
    "load_image_array=image.img_to_array(load_image)\n",
    "test_image=np.expand_dims(load_image_array,axis=0)"
   ]
  },
  {
   "cell_type": "code",
   "execution_count": 60,
   "id": "e88fad0d",
   "metadata": {},
   "outputs": [
    {
     "name": "stdout",
     "output_type": "stream",
     "text": [
      "1/1 [==============================] - 0s 41ms/step\n",
      "It is dog\n"
     ]
    }
   ],
   "source": [
    "result=cnn.predict(test_image)\n",
    "if result[0][0]<0.5:\n",
    "    print('It is cat')\n",
    "else:\n",
    "    print('It is dog')\n",
    "        "
   ]
  },
  {
   "cell_type": "code",
   "execution_count": null,
   "id": "a9722e28",
   "metadata": {},
   "outputs": [],
   "source": []
  },
  {
   "cell_type": "code",
   "execution_count": null,
   "id": "e4eaabc6",
   "metadata": {},
   "outputs": [],
   "source": []
  }
 ],
 "metadata": {
  "kernelspec": {
   "display_name": "Python 3 (ipykernel)",
   "language": "python",
   "name": "python3"
  },
  "language_info": {
   "codemirror_mode": {
    "name": "ipython",
    "version": 3
   },
   "file_extension": ".py",
   "mimetype": "text/x-python",
   "name": "python",
   "nbconvert_exporter": "python",
   "pygments_lexer": "ipython3",
   "version": "3.10.0"
  }
 },
 "nbformat": 4,
 "nbformat_minor": 5
}
